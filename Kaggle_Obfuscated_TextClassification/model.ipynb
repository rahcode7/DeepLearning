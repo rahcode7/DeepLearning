{
 "cells": [
  {
   "cell_type": "code",
   "execution_count": 0,
   "metadata": {
    "colab": {},
    "colab_type": "code",
    "id": "TA2beDdf-IZQ"
   },
   "outputs": [],
   "source": [
    "import os\n",
    "import keras\n",
    "from keras.preprocessing.text import Tokenizer\n",
    "import keras.preprocessing.text\n",
    "from keras.models import Model\n",
    "from keras.layers import LSTM,Activation,Dense,Dropout,Input,Embedding,SpatialDropout1D,Bidirectional,TimeDistributed, MaxPooling1D, Conv1D\n",
    "from keras.layers import BatchNormalization,Flatten,Concatenate\n",
    "from keras.optimizers import RMSprop\n",
    "from keras.callbacks import EarlyStopping\n",
    "from keras.preprocessing.sequence import pad_sequences\n",
    "import numpy as np\n",
    "from keras.models import Sequential\n",
    "from sklearn.preprocessing import LabelBinarizer\n",
    "from keras.callbacks import TensorBoard\n",
    "from time import time\n",
    "import matplotlib.pyplot as plt\n",
    "\n",
    "np.set_printoptions(threshold=np.nan)\n",
    "\n",
    "%matplotlib inline"
   ]
  },
  {
   "cell_type": "code",
   "execution_count": 0,
   "metadata": {
    "colab": {},
    "colab_type": "code",
    "id": "IoJJCvhULWLp"
   },
   "outputs": [],
   "source": [
    "# from google.colab import drive\n",
    "# drive.mount('/content/drive')"
   ]
  },
  {
   "cell_type": "markdown",
   "metadata": {
    "colab_type": "text",
    "id": "bk7mxAWR-IZd"
   },
   "source": [
    "#### Read Files"
   ]
  },
  {
   "cell_type": "code",
   "execution_count": 0,
   "metadata": {
    "colab": {},
    "colab_type": "code",
    "id": "RAA0I54P-IZe"
   },
   "outputs": [],
   "source": [
    "# Read files and stores in list\n",
    "train_X = [line.rstrip() for line in open('drive/My Drive/datasets/xtrain_obfuscated.txt')]\n",
    "train_Y = [line.rstrip() for line in open('drive/My Drive/datasets/ytrain.txt')]\n",
    "test_X = [line.rstrip() for line in open('drive/My Drive/datasets/xtest_obfuscated.txt')]\n",
    "\n",
    "# train_X = [line.rstrip() for line in open('xtrain_obfuscated.txt')]\n",
    "# train_Y = [line.rstrip() for line in open('ytrain.txt')]\n",
    "# test_X = [line.rstrip() for line in open('xtest_obfuscated.txt')]"
   ]
  },
  {
   "cell_type": "code",
   "execution_count": 5,
   "metadata": {
    "colab": {
     "base_uri": "https://localhost:8080/",
     "height": 74
    },
    "colab_type": "code",
    "id": "2_5pPPJX-IZi",
    "outputId": "9c984dfc-ce95-48db-d0c2-276fedc1236c"
   },
   "outputs": [
    {
     "data": {
      "text/plain": [
       "(32513, 32513, 3000)"
      ]
     },
     "execution_count": 5,
     "metadata": {
      "tags": []
     },
     "output_type": "execute_result"
    }
   ],
   "source": [
    "len(train_X),len(train_Y),len(test_X)"
   ]
  },
  {
   "cell_type": "markdown",
   "metadata": {
    "colab_type": "text",
    "id": "P_yezsWr-IZ0"
   },
   "source": [
    "#### One-hot Encoding of Output Classes\n"
   ]
  },
  {
   "cell_type": "code",
   "execution_count": 0,
   "metadata": {
    "colab": {},
    "colab_type": "code",
    "id": "sBzI9A2-TEJh"
   },
   "outputs": [],
   "source": [
    "encoder = LabelBinarizer()\n",
    "encoder.fit(train_Y)\n",
    "y_train = encoder.transform(train_Y)"
   ]
  },
  {
   "cell_type": "code",
   "execution_count": 9,
   "metadata": {
    "colab": {
     "base_uri": "https://localhost:8080/",
     "height": 140
    },
    "colab_type": "code",
    "id": "QDepi9mBTaL5",
    "outputId": "294192a0-f40b-494e-ccba-b6d2533a0764"
   },
   "outputs": [
    {
     "data": {
      "text/plain": [
       "array([[0, 0, 0, 0, 0, 0, 0, 0, 0, 1, 0, 0],\n",
       "       [0, 0, 0, 0, 0, 1, 0, 0, 0, 0, 0, 0],\n",
       "       [0, 0, 0, 0, 0, 0, 0, 0, 0, 0, 1, 0],\n",
       "       [0, 0, 0, 0, 0, 1, 0, 0, 0, 0, 0, 0],\n",
       "       [0, 0, 0, 0, 0, 0, 1, 0, 0, 0, 0, 0]])"
      ]
     },
     "execution_count": 9,
     "metadata": {
      "tags": []
     },
     "output_type": "execute_result"
    }
   ],
   "source": [
    "y_train[0:5]"
   ]
  },
  {
   "cell_type": "code",
   "execution_count": 0,
   "metadata": {
    "colab": {},
    "colab_type": "code",
    "id": "vyONsYdsYMjP"
   },
   "outputs": [],
   "source": [
    "#print(\"Mean length\",text_lengths.mean())"
   ]
  },
  {
   "cell_type": "code",
   "execution_count": 0,
   "metadata": {
    "colab": {},
    "colab_type": "code",
    "id": "4-uhZjZU-IZ7"
   },
   "outputs": [],
   "source": [
    "# Split sequence to characters\n",
    "#\" \".join(train_X[0])\n",
    "# sample\n",
    "# for i in range(len(train_X[0:5])):\n",
    "#     train_X[i] = \" \".join(train_X[i])\n",
    "    \n",
    "# full data\n",
    "for i in range(len(train_X)):\n",
    "    train_X[i] = \" \".join(train_X[i])\n",
    "    \n",
    "for i in range(len(test_X)):\n",
    "    test_X[i] = \" \".join(test_X[i])   \n",
    "#keras.preprocessing.text.text_to_word_sequence(train_X[0], lower=True, split=\" \")"
   ]
  },
  {
   "cell_type": "code",
   "execution_count": 12,
   "metadata": {
    "colab": {
     "base_uri": "https://localhost:8080/",
     "height": 74
    },
    "colab_type": "code",
    "id": "5U2xIDybZZGE",
    "outputId": "6cd5bafb-3e50-4af6-ac4a-e202ebf7d392"
   },
   "outputs": [
    {
     "data": {
      "text/plain": [
       "'t v l e t w g z k r q v u h t w a m u l u h p k s k p m p m i w t v u h a m q v m v i w l r v i k q u h t w a m u l u h q g v i p m m v u l k r i w p m q v t w l e u h a m q v m v i w l r v i k q u h t w a m u l u h q g q v q v t w v i e z l e m v x e u h a m q v m v i w l r v i k q u h t w a m u l u h p k s k v i e n i w l r v i k q u h q v m v u h q g p m p m i w l e t w u l e n o k u h x e p m u h t w i w u l u l e n t v u h t w a m u l u h v i m v u h s k t w l e m v e z s k e n u h t w t v u h u l q v k r e z u h a m y p m v a m d f u h u l e n a m g u u h r a s k v i p m y p t w q v u h t w a m u l u h x e p m u h v i m v e n u l g z e n y p u h e n u h s a t v u h v i p m d f u h q g l e t w s k l e p m u h u l q v l e m v x e u h t w a m u l u h x e p m u h t w i w u l u l e n t v u h e n u h q v m v u h p m p m i w l e t w u l e n o k'"
      ]
     },
     "execution_count": 12,
     "metadata": {
      "tags": []
     },
     "output_type": "execute_result"
    }
   ],
   "source": [
    "test_X[0]"
   ]
  },
  {
   "cell_type": "code",
   "execution_count": 28,
   "metadata": {
    "colab": {
     "base_uri": "https://localhost:8080/",
     "height": 94
    },
    "colab_type": "code",
    "id": "1DWhBQqW-IZ_",
    "outputId": "f3d43afd-a2f7-4eb5-c734-a14e59305bd6"
   },
   "outputs": [
    {
     "name": "stdout",
     "output_type": "stream",
     "text": [
      "(32513, 453)\n",
      "(3000, 453)\n"
     ]
    }
   ],
   "source": [
    "#maxlen = 1000\n",
    "\n",
    "#Trial 2 - cut lenght\n",
    "maxlen = 453\n",
    "vocab_size = 26\n",
    "t = Tokenizer(num_words=26)\n",
    "\n",
    "# Fit on docs\n",
    "t.fit_on_texts(train_X)\n",
    "\n",
    "# Vectorise each test documents based on dictionary \n",
    "index_list = t.texts_to_sequences(train_X)\n",
    "\n",
    "# Pad Zeros\n",
    "training_X = pad_sequences(index_list, maxlen=maxlen)\n",
    "print(training_X.shape)\n",
    "\n",
    "# Vectorise each test documents based on dictionary \n",
    "index_list_test = t.texts_to_sequences(test_X)\n",
    "test_X_encoded = pad_sequences(index_list_test, maxlen=maxlen)\n",
    "print(test_X_encoded.shape)"
   ]
  },
  {
   "cell_type": "code",
   "execution_count": 33,
   "metadata": {
    "colab": {
     "base_uri": "https://localhost:8080/",
     "height": 1000
    },
    "colab_type": "code",
    "id": "xeJlLy_8Ohyp",
    "outputId": "cfa8f38d-ba38-47f1-ed89-a1eb7b5a6467"
   },
   "outputs": [
    {
     "name": "stdout",
     "output_type": "stream",
     "text": [
      "[[ 0  0  0  0  0  0  0  0  0  0  0  0  0  0  0  0  0  0  0  0  0  0  0  0\n",
      "   0  0  0  0  0  0  0  0  0  0  0  0  0  0  0  0  0  0  0  0  0  0  0 15\n",
      "  11  8  7 11  3  1  6  1  2 13 17  1  6 11  3  6 16  3  4  5 18  1  2 13\n",
      "   4 12 16 10  3  6  5  8  7  1  6 23  9  8  7 15 12  1  2  6  5  3  4  8\n",
      "   7 11  3  1  6  1  2  9  7  9  7  5 14  1  2  6 16  4  9  3  4 13  4 12\n",
      "  16  1  2  1  6  5 14 11  3  1  6  1  2 13 17 13  4  8  7  4  9  3  4  9\n",
      "   7  1  2  8  7 11  3  1  6  1  2  1  6 13  4 12 16  5 14 11  3 23  9  8\n",
      "   7  1  2  4  9 10  3 10  3 13  4  1  2 15 12  9  7 12 16 10  3 19 20  1\n",
      "   2  6 16  4  9  3  4 15 12  4  9 12 16 10  3 13  4  1  2 15 12  3  4 17\n",
      "  18  5 14  6  5  1  2 13  4  3  4 11  3  1  6  1  2  1  6  5 14 11  3  1\n",
      "   6  1  2 13  4  6  5  8  7  8  7  4  9 10  3 10  3 17 18  6  5  5 14 11\n",
      "   3  1  2  8  7 11  3  1  6  1  2  8  7  6  5  8  7 19 20  1  2  9  7 12\n",
      "  16 22  5  6  5  5 14  8  7 22  5  1  2 10  3 13  4  1  2  8  7  9  7  3\n",
      "   4 11  3 19 20  1  2 10 12  5 18  8  7 11  3  1  6  1  2  4  9  3  4  1\n",
      "   2 13  4  8  7  3 12 10  3 10  3  6  5  6 16  1  2 17 18  8  7  8  7 15\n",
      "  12  1  2  8  7  6 16 12 16 10  3  6 16  1  2 10  3  1  6  1  2 13  4  5\n",
      "  14  1  2  8  7 21 10  6  5 10  3 22  5  1  2  5 14  1  2 11  3 21 10 12\n",
      "  16 13  4  1  2 11  3  1  6  3  4 19 20  1  2 13  4 15 12  5 14  8  7 11\n",
      "   3  6  5  8  7  6 16  6 16 10  3  9  7  1  2  8  7 11  3  1  6]\n",
      " [ 0  0  0  0  0  0  0  0  0  0  0  0  0  0  0  0  0  0  0  0  0  0  0  0\n",
      "   0  0  0  0  0  0  0  0  0  0  0  0  0  0  0  0  0  0  0  0  0  0  0  0\n",
      "   0  0  0  0  0  0  0  0  0  0  0  0  0  0  0  0  0  0  0  0  0  8  7  3\n",
      "  12  9  7 10  3 13  4  8  7  6  5  1  2 15 11  9  7 15 12  8  7  3  4  6\n",
      "   5  6  5 12 16 11  3  1  2 13  4 12 16  1  2  8  7 15 12  5 14  5 18  1\n",
      "   2 15 12  4  9  5 14  1  2 13 17  1  6  4  9  5 14  1  6 13  4  4  9  3\n",
      "   4  1  2  4  9  5 14  1  2  4  9  3  4  1  2  1  6 21 10  8  7 16  8  4\n",
      "  12 16 13  4  1  2  8  7 11  3  1  6  1  2 15 12  8  7  6 16  4  9  5 14\n",
      "  11  3 21 10  1  2 13  4  3  4 11  3 17  1  1  2  4 17 24 11  1  6 11  3\n",
      "   6 16  3  4  4  9  2 10  3  1  6  1  2 13  4  9 25  1  6  3  4 14 12  1\n",
      "   2 13 17 15 12 12 16 10  3  9  7  5 14  1  2 15 12  8  7 15 12 15 12  5\n",
      "  14  1  2 15 11  9  7  3  4  6  5  5 14  1  6  4  9 12 16  9  7 10  3  3\n",
      "  12  4  9  3  4  1  2  9 17  1  2  4 17 13 17  1  6  6  5  5 14  8  7 11\n",
      "   3  1  2 15 11  5 18  1  2 13  4 13  4  8  7  9  7  8  4  1  2 15 12  4\n",
      "   9 15 12 14 12  1  2 16 11  4  9 19 20 10  3  4  9  8  7  6  5  1  2  4\n",
      "   9  5 14  3  4 21 10 13  4 10  3 25  5  1  2 22  5 10  3  1  2  6  5 12\n",
      "  16  8  7  1  6  5 14  5 18  5 14  1  2  9  7  5 14  3  4 21 10  4  9  3\n",
      "   4  3 12 10  3  6  5 17 18  1  2 15 12  8  7  1  6  5 14  6  5  8  4  8\n",
      "   7  9  7  8  7 21 10  1  2  8  7 11  3  1  6  1  2 10  3  1  6]\n",
      " [ 0  0  0  0  0  0  0  0  0  0  0  0  0  0  0  0  0  0  0  0  0  0  0  0\n",
      "   0  0  0  0  0  0  0  0  0  0  0  4  9 19 20 10  3 15 12  1  2  4  9  6\n",
      "   5 10  3  1  6  1  2  8  7  8  4  1  2  1  6 15 24  4  9  5 14 11  3 13\n",
      "   4  1  2 15 12  9  7  3  4 11  3 21 10  1  2  8  7 11  3  1  6 15 24  1\n",
      "   2 13 17  4  9  5 14  5 18  1  2  8  7 11  3  1  6  1  2 11  3  1  6  3\n",
      "   4 19 20  1  2 15 11  9  7  1  6  4  9  8  7  9  7 10  3  3  4  3 12  1\n",
      "   2  6 16  4  9  3  4  9  7  6 16  6 16 12 16  6  5  1  6 13  4  1  2 13\n",
      "  17  9  7  6  5  3  4  6 16  1  2  8  7 11  3  1  6  1  2 15 12  8  7  5\n",
      "  18  5 14  8  7  6  5 21 10 13  4  1  2 15 24 13 17  1  6  5 14 11  3  1\n",
      "   6  1  2  6  5 10  3 22  5  1  2  8  7  6  5  5 14 21 10  1  2  1  6 15\n",
      "  24  4  9 10  3 15 12  1  2  9 17  1  2 13 17  9  7  9  7  3  4 19 20  1\n",
      "   2 13 17  1  6  5 14 11  3  1  6  1  2  6  5 10  3 22  5  1  2  8  7  6\n",
      "   5  5 14 21 10  1  2  1  6 15 24  4  9 10  3 15 12  1  2  9 17 15 24  1\n",
      "   2  1  6 13  4  4  9  3  4  5 14  6 16  5 14  1  2 15 12  5 14  8  7 11\n",
      "   3  1  2  6  5 12 16 10  3 15 11  1  2  1  6  3  4  9  7 17 18 13  4  1\n",
      "   2  9  7  9  7 15 24  9 17  1  2  6  5 10  3  1  2 13 17  8  7  5 18  1\n",
      "   2  5 18 10  3  6  5 22  5  1  2 22  5 22  5 10  3  1  2 15 12  4  9  5\n",
      "  14  1  6 22 21 15 24  1  2  1  2 16 11 17 18 13  4  5 14  6  5  6 16  1\n",
      "   2 13  4 15 24  9  7  6  5  3  4  6 16  1  2  8  7 11  3  1  6]]\n"
     ]
    }
   ],
   "source": [
    "## Sample Training Example \n",
    "print(training_X[0:3])"
   ]
  },
  {
   "cell_type": "markdown",
   "metadata": {
    "colab_type": "text",
    "id": "WpiQSLk5-IaD"
   },
   "source": [
    "#### Training Output"
   ]
  },
  {
   "cell_type": "code",
   "execution_count": 14,
   "metadata": {
    "colab": {
     "base_uri": "https://localhost:8080/",
     "height": 74
    },
    "colab_type": "code",
    "id": "k6rJs3jk-IaD",
    "outputId": "1b37fc83-83cf-4732-e869-c59920c36aed"
   },
   "outputs": [
    {
     "name": "stdout",
     "output_type": "stream",
     "text": [
      "[7 3 8 3 4]\n"
     ]
    }
   ],
   "source": [
    "train_Y = np.array(train_Y)\n",
    "train_Y = train_Y.astype(int)\n",
    "print(train_Y[0:5])"
   ]
  },
  {
   "cell_type": "markdown",
   "metadata": {
    "colab_type": "text",
    "id": "ozkxBFV0-IaF"
   },
   "source": [
    "#### Neural Network"
   ]
  },
  {
   "cell_type": "code",
   "execution_count": 15,
   "metadata": {
    "colab": {
     "base_uri": "https://localhost:8080/",
     "height": 640
    },
    "colab_type": "code",
    "id": "B6mmcv2kO5cr",
    "outputId": "1f7d0cc3-8083-45c0-d459-a3c8e0082e0b"
   },
   "outputs": [
    {
     "name": "stdout",
     "output_type": "stream",
     "text": [
      "_________________________________________________________________\n",
      "Layer (type)                 Output Shape              Param #   \n",
      "=================================================================\n",
      "embedding_1 (Embedding)      (None, 453, 15)           390       \n",
      "_________________________________________________________________\n",
      "batch_normalization_1 (Batch (None, 453, 15)           60        \n",
      "_________________________________________________________________\n",
      "conv1d_1 (Conv1D)            (None, 449, 64)           4864      \n",
      "_________________________________________________________________\n",
      "max_pooling1d_1 (MaxPooling1 (None, 149, 64)           0         \n",
      "_________________________________________________________________\n",
      "conv1d_2 (Conv1D)            (None, 145, 32)           10272     \n",
      "_________________________________________________________________\n",
      "max_pooling1d_2 (MaxPooling1 (None, 48, 32)            0         \n",
      "_________________________________________________________________\n",
      "dropout_1 (Dropout)          (None, 48, 32)            0         \n",
      "_________________________________________________________________\n",
      "lstm_1 (LSTM)                (None, 100)               53200     \n",
      "_________________________________________________________________\n",
      "dense_1 (Dense)              (None, 500)               50500     \n",
      "_________________________________________________________________\n",
      "batch_normalization_2 (Batch (None, 500)               2000      \n",
      "_________________________________________________________________\n",
      "dense_2 (Dense)              (None, 12)                6012      \n",
      "_________________________________________________________________\n",
      "batch_normalization_3 (Batch (None, 12)                48        \n",
      "_________________________________________________________________\n",
      "activation_1 (Activation)    (None, 12)                0         \n",
      "=================================================================\n",
      "Total params: 127,346\n",
      "Trainable params: 126,292\n",
      "Non-trainable params: 1,054\n",
      "_________________________________________________________________\n",
      "None\n"
     ]
    }
   ],
   "source": [
    "## CNN + LSTM\n",
    "#n_most_common_words = 30\n",
    "vocab_size = 26\n",
    "input_seqlen = 453\n",
    "\n",
    "embedding_size = 15\n",
    "\n",
    "# Convolution\n",
    "kernel_size = [5,5]\n",
    "filters = [64,32]\n",
    "pool_size = [3]\n",
    "\n",
    "\n",
    "\n",
    "\n",
    "model = Sequential()\n",
    "model.add(Embedding(vocab_size, embedding_size, input_length=input_seqlen))\n",
    "model.add(BatchNormalization())\n",
    "model.add(Conv1D(filters[0],\n",
    "                 kernel_size[0],\n",
    "                 padding='valid',\n",
    "                 activation='relu',\n",
    "                 strides=1))\n",
    "#model.add(Dropout(0.3))\n",
    "model.add(MaxPooling1D(pool_size=pool_size))\n",
    "\n",
    "model.add(Conv1D(filters[1],\n",
    "                 kernel_size[1],\n",
    "                 padding='valid',\n",
    "                 activation='relu',\n",
    "                 strides=1))\n",
    "#model.add(Dropout(0.3))\n",
    "model.add(MaxPooling1D(pool_size=pool_size))\n",
    "\n",
    "model.add(Dropout(0.5))\n",
    "model.add(LSTM(100))\n",
    "\n",
    "model.add(Dense(500))\n",
    "model.add(BatchNormalization())\n",
    "model.add(Dense(12))\n",
    "model.add(BatchNormalization())\n",
    "\n",
    "model.add(Activation('softmax'))\n",
    "\n",
    "model.compile(optimizer='adam', loss='categorical_crossentropy', metrics=['acc'])\n",
    "print(model.summary())"
   ]
  },
  {
   "cell_type": "code",
   "execution_count": 18,
   "metadata": {
    "colab": {
     "base_uri": "https://localhost:8080/",
     "height": 6663
    },
    "colab_type": "code",
    "id": "edFuCkAie8Qj",
    "outputId": "9afdfe98-1318-48a7-ea78-ec8f2d9dcef0"
   },
   "outputs": [
    {
     "name": "stdout",
     "output_type": "stream",
     "text": [
      "Train on 26010 samples, validate on 6503 samples\n",
      "Epoch 1/200\n",
      "26010/26010 [==============================] - 33s 1ms/step - loss: 2.3270 - acc: 0.1882 - val_loss: 2.6154 - val_acc: 0.1539\n",
      "Epoch 2/200\n",
      "26010/26010 [==============================] - 32s 1ms/step - loss: 1.9573 - acc: 0.3319 - val_loss: 1.7026 - val_acc: 0.4078\n",
      "Epoch 3/200\n",
      "26010/26010 [==============================] - 32s 1ms/step - loss: 1.6489 - acc: 0.4443 - val_loss: 1.6798 - val_acc: 0.4269\n",
      "Epoch 4/200\n",
      "26010/26010 [==============================] - 32s 1ms/step - loss: 1.4857 - acc: 0.5013 - val_loss: 1.4206 - val_acc: 0.5155\n",
      "Epoch 5/200\n",
      "26010/26010 [==============================] - 32s 1ms/step - loss: 1.3864 - acc: 0.5318 - val_loss: 1.4560 - val_acc: 0.5116\n",
      "Epoch 6/200\n",
      "26010/26010 [==============================] - 32s 1ms/step - loss: 1.3283 - acc: 0.5498 - val_loss: 1.3865 - val_acc: 0.5201\n",
      "Epoch 7/200\n",
      "26010/26010 [==============================] - 32s 1ms/step - loss: 1.2754 - acc: 0.5611 - val_loss: 1.4449 - val_acc: 0.5091\n",
      "Epoch 8/200\n",
      "26010/26010 [==============================] - 32s 1ms/step - loss: 1.2376 - acc: 0.5758 - val_loss: 1.2023 - val_acc: 0.5908\n",
      "Epoch 9/200\n",
      "26010/26010 [==============================] - 32s 1ms/step - loss: 1.2092 - acc: 0.5857 - val_loss: 1.1763 - val_acc: 0.5916\n",
      "Epoch 10/200\n",
      "26010/26010 [==============================] - 32s 1ms/step - loss: 1.1805 - acc: 0.5945 - val_loss: 1.3257 - val_acc: 0.5405\n",
      "Epoch 11/200\n",
      "26010/26010 [==============================] - 32s 1ms/step - loss: 1.1564 - acc: 0.6027 - val_loss: 1.1527 - val_acc: 0.6048\n",
      "Epoch 12/200\n",
      "26010/26010 [==============================] - 32s 1ms/step - loss: 1.1263 - acc: 0.6155 - val_loss: 1.0782 - val_acc: 0.6312\n",
      "Epoch 13/200\n",
      "26010/26010 [==============================] - 32s 1ms/step - loss: 1.1146 - acc: 0.6149 - val_loss: 1.1230 - val_acc: 0.6070\n",
      "Epoch 14/200\n",
      "26010/26010 [==============================] - 32s 1ms/step - loss: 1.0888 - acc: 0.6250 - val_loss: 1.1053 - val_acc: 0.6134\n",
      "Epoch 15/200\n",
      "26010/26010 [==============================] - 32s 1ms/step - loss: 1.0553 - acc: 0.6363 - val_loss: 1.1496 - val_acc: 0.6074\n",
      "Epoch 16/200\n",
      "26010/26010 [==============================] - 32s 1ms/step - loss: 1.0461 - acc: 0.6400 - val_loss: 1.1799 - val_acc: 0.5968\n",
      "Epoch 17/200\n",
      "26010/26010 [==============================] - 32s 1ms/step - loss: 1.0273 - acc: 0.6487 - val_loss: 1.0458 - val_acc: 0.6434\n",
      "Epoch 18/200\n",
      "26010/26010 [==============================] - 32s 1ms/step - loss: 1.0027 - acc: 0.6576 - val_loss: 1.0737 - val_acc: 0.6200\n",
      "Epoch 19/200\n",
      "26010/26010 [==============================] - 32s 1ms/step - loss: 0.9980 - acc: 0.6571 - val_loss: 0.9386 - val_acc: 0.6794\n",
      "Epoch 20/200\n",
      "26010/26010 [==============================] - 32s 1ms/step - loss: 0.9837 - acc: 0.6639 - val_loss: 1.2090 - val_acc: 0.5823\n",
      "Epoch 21/200\n",
      "26010/26010 [==============================] - 32s 1ms/step - loss: 0.9624 - acc: 0.6669 - val_loss: 0.9849 - val_acc: 0.6666\n",
      "Epoch 22/200\n",
      "26010/26010 [==============================] - 32s 1ms/step - loss: 0.9498 - acc: 0.6722 - val_loss: 0.9292 - val_acc: 0.6868\n",
      "Epoch 23/200\n",
      "26010/26010 [==============================] - 32s 1ms/step - loss: 0.9401 - acc: 0.6781 - val_loss: 1.1397 - val_acc: 0.6225\n",
      "Epoch 24/200\n",
      "26010/26010 [==============================] - 32s 1ms/step - loss: 0.9225 - acc: 0.6881 - val_loss: 1.1432 - val_acc: 0.6272\n",
      "Epoch 25/200\n",
      "26010/26010 [==============================] - 32s 1ms/step - loss: 0.9110 - acc: 0.6875 - val_loss: 0.9527 - val_acc: 0.6729\n",
      "Epoch 26/200\n",
      "26010/26010 [==============================] - 32s 1ms/step - loss: 0.9050 - acc: 0.6903 - val_loss: 0.8996 - val_acc: 0.6931\n",
      "Epoch 27/200\n",
      "26010/26010 [==============================] - 32s 1ms/step - loss: 0.8911 - acc: 0.6963 - val_loss: 0.9684 - val_acc: 0.6652\n",
      "Epoch 28/200\n",
      "26010/26010 [==============================] - 32s 1ms/step - loss: 0.8850 - acc: 0.6969 - val_loss: 0.9397 - val_acc: 0.6835\n",
      "Epoch 29/200\n",
      "26010/26010 [==============================] - 32s 1ms/step - loss: 0.8743 - acc: 0.6998 - val_loss: 0.9387 - val_acc: 0.6772\n",
      "Epoch 30/200\n",
      "26010/26010 [==============================] - 32s 1ms/step - loss: 0.8613 - acc: 0.7036 - val_loss: 0.8973 - val_acc: 0.7014\n",
      "Epoch 31/200\n",
      "26010/26010 [==============================] - 32s 1ms/step - loss: 0.8547 - acc: 0.7070 - val_loss: 0.8697 - val_acc: 0.7040\n",
      "Epoch 32/200\n",
      "26010/26010 [==============================] - 32s 1ms/step - loss: 0.8509 - acc: 0.7077 - val_loss: 0.8955 - val_acc: 0.6931\n",
      "Epoch 33/200\n",
      "26010/26010 [==============================] - 32s 1ms/step - loss: 0.8442 - acc: 0.7117 - val_loss: 0.9312 - val_acc: 0.6878\n",
      "Epoch 34/200\n",
      "26010/26010 [==============================] - 32s 1ms/step - loss: 0.8330 - acc: 0.7141 - val_loss: 0.9206 - val_acc: 0.6840\n",
      "Epoch 35/200\n",
      "26010/26010 [==============================] - 32s 1ms/step - loss: 0.8255 - acc: 0.7184 - val_loss: 0.9230 - val_acc: 0.6881\n",
      "Epoch 36/200\n",
      "26010/26010 [==============================] - 32s 1ms/step - loss: 0.8241 - acc: 0.7185 - val_loss: 0.8584 - val_acc: 0.7063\n",
      "Epoch 37/200\n",
      "26010/26010 [==============================] - 32s 1ms/step - loss: 0.8100 - acc: 0.7240 - val_loss: 0.9985 - val_acc: 0.6591\n",
      "Epoch 38/200\n",
      "26010/26010 [==============================] - 32s 1ms/step - loss: 0.8064 - acc: 0.7248 - val_loss: 0.8849 - val_acc: 0.6954\n",
      "Epoch 39/200\n",
      "26010/26010 [==============================] - 32s 1ms/step - loss: 0.8033 - acc: 0.7229 - val_loss: 0.8858 - val_acc: 0.7018\n",
      "Epoch 40/200\n",
      "26010/26010 [==============================] - 32s 1ms/step - loss: 0.7993 - acc: 0.7273 - val_loss: 0.8322 - val_acc: 0.7303\n",
      "Epoch 41/200\n",
      "26010/26010 [==============================] - 32s 1ms/step - loss: 0.7859 - acc: 0.7297 - val_loss: 0.8826 - val_acc: 0.7018\n",
      "Epoch 42/200\n",
      "26010/26010 [==============================] - 32s 1ms/step - loss: 0.7852 - acc: 0.7305 - val_loss: 0.9091 - val_acc: 0.6937\n",
      "Epoch 43/200\n",
      "26010/26010 [==============================] - 32s 1ms/step - loss: 0.7821 - acc: 0.7323 - val_loss: 0.9055 - val_acc: 0.6912\n",
      "Epoch 44/200\n",
      "26010/26010 [==============================] - 32s 1ms/step - loss: 0.7748 - acc: 0.7345 - val_loss: 0.8748 - val_acc: 0.7089\n",
      "Epoch 45/200\n",
      "26010/26010 [==============================] - 32s 1ms/step - loss: 0.7673 - acc: 0.7388 - val_loss: 0.9090 - val_acc: 0.6949\n",
      "Epoch 46/200\n",
      "26010/26010 [==============================] - 32s 1ms/step - loss: 0.7603 - acc: 0.7409 - val_loss: 0.9089 - val_acc: 0.6971\n",
      "Epoch 47/200\n",
      "26010/26010 [==============================] - 32s 1ms/step - loss: 0.7489 - acc: 0.7428 - val_loss: 0.7966 - val_acc: 0.7332\n",
      "Epoch 48/200\n",
      "26010/26010 [==============================] - 32s 1ms/step - loss: 0.7500 - acc: 0.7438 - val_loss: 0.8885 - val_acc: 0.7008\n",
      "Epoch 49/200\n",
      "26010/26010 [==============================] - 32s 1ms/step - loss: 0.7470 - acc: 0.7452 - val_loss: 0.9699 - val_acc: 0.6817\n",
      "Epoch 50/200\n",
      "26010/26010 [==============================] - 32s 1ms/step - loss: 0.7354 - acc: 0.7473 - val_loss: 0.8524 - val_acc: 0.7198\n",
      "Epoch 51/200\n",
      "26010/26010 [==============================] - 32s 1ms/step - loss: 0.7356 - acc: 0.7466 - val_loss: 0.8921 - val_acc: 0.7018\n",
      "Epoch 52/200\n",
      "26010/26010 [==============================] - 32s 1ms/step - loss: 0.7389 - acc: 0.7467 - val_loss: 0.8139 - val_acc: 0.7274\n",
      "Epoch 53/200\n",
      "26010/26010 [==============================] - 32s 1ms/step - loss: 0.7284 - acc: 0.7494 - val_loss: 0.8136 - val_acc: 0.7204\n",
      "Epoch 54/200\n",
      "26010/26010 [==============================] - 32s 1ms/step - loss: 0.7282 - acc: 0.7504 - val_loss: 0.8073 - val_acc: 0.7278\n",
      "Epoch 55/200\n",
      "26010/26010 [==============================] - 32s 1ms/step - loss: 0.7204 - acc: 0.7525 - val_loss: 0.8555 - val_acc: 0.7144\n",
      "Epoch 56/200\n",
      "26010/26010 [==============================] - 32s 1ms/step - loss: 0.7137 - acc: 0.7570 - val_loss: 0.9253 - val_acc: 0.6855\n",
      "Epoch 57/200\n",
      "26010/26010 [==============================] - 32s 1ms/step - loss: 0.7192 - acc: 0.7566 - val_loss: 0.8643 - val_acc: 0.7157\n",
      "Epoch 58/200\n",
      "26010/26010 [==============================] - 32s 1ms/step - loss: 0.7093 - acc: 0.7602 - val_loss: 0.8121 - val_acc: 0.7214\n",
      "Epoch 59/200\n",
      "26010/26010 [==============================] - 32s 1ms/step - loss: 0.7070 - acc: 0.7552 - val_loss: 0.9711 - val_acc: 0.6885\n",
      "Epoch 60/200\n",
      "26010/26010 [==============================] - 32s 1ms/step - loss: 0.7027 - acc: 0.7596 - val_loss: 0.9795 - val_acc: 0.6831\n",
      "Epoch 61/200\n",
      "26010/26010 [==============================] - 32s 1ms/step - loss: 0.7003 - acc: 0.7581 - val_loss: 0.8517 - val_acc: 0.7127\n",
      "Epoch 62/200\n",
      "26010/26010 [==============================] - 32s 1ms/step - loss: 0.6943 - acc: 0.7603 - val_loss: 0.8558 - val_acc: 0.7126\n",
      "Epoch 63/200\n",
      "26010/26010 [==============================] - 32s 1ms/step - loss: 0.6843 - acc: 0.7661 - val_loss: 0.8408 - val_acc: 0.7209\n",
      "Epoch 64/200\n",
      "26010/26010 [==============================] - 32s 1ms/step - loss: 0.6895 - acc: 0.7635 - val_loss: 0.7777 - val_acc: 0.7392\n",
      "Epoch 65/200\n",
      "26010/26010 [==============================] - 32s 1ms/step - loss: 0.6838 - acc: 0.7667 - val_loss: 0.7958 - val_acc: 0.7326\n",
      "Epoch 66/200\n",
      "26010/26010 [==============================] - 32s 1ms/step - loss: 0.6876 - acc: 0.7633 - val_loss: 0.9308 - val_acc: 0.7028\n",
      "Epoch 67/200\n",
      "26010/26010 [==============================] - 32s 1ms/step - loss: 0.6827 - acc: 0.7664 - val_loss: 0.8366 - val_acc: 0.7183\n",
      "Epoch 68/200\n",
      "26010/26010 [==============================] - 32s 1ms/step - loss: 0.6783 - acc: 0.7662 - val_loss: 0.8043 - val_acc: 0.7297\n",
      "Epoch 69/200\n",
      "26010/26010 [==============================] - 32s 1ms/step - loss: 0.6807 - acc: 0.7671 - val_loss: 0.8710 - val_acc: 0.7198\n",
      "Epoch 70/200\n",
      "26010/26010 [==============================] - 32s 1ms/step - loss: 0.6730 - acc: 0.7676 - val_loss: 0.7625 - val_acc: 0.7378\n",
      "Epoch 71/200\n",
      "26010/26010 [==============================] - 32s 1ms/step - loss: 0.6683 - acc: 0.7737 - val_loss: 0.7654 - val_acc: 0.7435\n",
      "Epoch 72/200\n",
      "26010/26010 [==============================] - 32s 1ms/step - loss: 0.6571 - acc: 0.7745 - val_loss: 0.7439 - val_acc: 0.7481\n",
      "Epoch 73/200\n",
      "26010/26010 [==============================] - 32s 1ms/step - loss: 0.6622 - acc: 0.7729 - val_loss: 0.8771 - val_acc: 0.7134\n",
      "Epoch 74/200\n",
      "26010/26010 [==============================] - 32s 1ms/step - loss: 0.6541 - acc: 0.7778 - val_loss: 0.8261 - val_acc: 0.7152\n",
      "Epoch 75/200\n",
      "26010/26010 [==============================] - 32s 1ms/step - loss: 0.6554 - acc: 0.7750 - val_loss: 0.8056 - val_acc: 0.7301\n",
      "Epoch 76/200\n",
      "26010/26010 [==============================] - 32s 1ms/step - loss: 0.6557 - acc: 0.7765 - val_loss: 0.8589 - val_acc: 0.7118\n",
      "Epoch 77/200\n",
      "26010/26010 [==============================] - 32s 1ms/step - loss: 0.6514 - acc: 0.7758 - val_loss: 0.7871 - val_acc: 0.7370\n",
      "Epoch 78/200\n",
      "26010/26010 [==============================] - 32s 1ms/step - loss: 0.6481 - acc: 0.7770 - val_loss: 0.8743 - val_acc: 0.7127\n",
      "Epoch 79/200\n",
      "26010/26010 [==============================] - 32s 1ms/step - loss: 0.6438 - acc: 0.7776 - val_loss: 0.8433 - val_acc: 0.7243\n",
      "Epoch 80/200\n",
      "26010/26010 [==============================] - 32s 1ms/step - loss: 0.6459 - acc: 0.7767 - val_loss: 0.8074 - val_acc: 0.7298\n",
      "Epoch 81/200\n",
      "26010/26010 [==============================] - 32s 1ms/step - loss: 0.6452 - acc: 0.7817 - val_loss: 0.9968 - val_acc: 0.6798\n",
      "Epoch 82/200\n",
      "26010/26010 [==============================] - 32s 1ms/step - loss: 0.6428 - acc: 0.7787 - val_loss: 0.7703 - val_acc: 0.7377\n",
      "Epoch 83/200\n",
      "26010/26010 [==============================] - 32s 1ms/step - loss: 0.6405 - acc: 0.7802 - val_loss: 0.8057 - val_acc: 0.7341\n",
      "Epoch 84/200\n",
      "26010/26010 [==============================] - 32s 1ms/step - loss: 0.6315 - acc: 0.7812 - val_loss: 0.8185 - val_acc: 0.7227\n",
      "Epoch 85/200\n",
      "26010/26010 [==============================] - 32s 1ms/step - loss: 0.6250 - acc: 0.7849 - val_loss: 0.8326 - val_acc: 0.7244\n",
      "Epoch 86/200\n",
      "26010/26010 [==============================] - 32s 1ms/step - loss: 0.6324 - acc: 0.7825 - val_loss: 0.7785 - val_acc: 0.7389\n",
      "Epoch 87/200\n",
      "26010/26010 [==============================] - 32s 1ms/step - loss: 0.6268 - acc: 0.7855 - val_loss: 0.7832 - val_acc: 0.7363\n",
      "Epoch 88/200\n",
      "26010/26010 [==============================] - 32s 1ms/step - loss: 0.6123 - acc: 0.7894 - val_loss: 0.8198 - val_acc: 0.7290\n",
      "Epoch 89/200\n",
      "26010/26010 [==============================] - 32s 1ms/step - loss: 0.6231 - acc: 0.7836 - val_loss: 0.8887 - val_acc: 0.7124\n",
      "Epoch 90/200\n",
      "26010/26010 [==============================] - 32s 1ms/step - loss: 0.6232 - acc: 0.7877 - val_loss: 0.7443 - val_acc: 0.7509\n",
      "Epoch 91/200\n",
      "26010/26010 [==============================] - 32s 1ms/step - loss: 0.6201 - acc: 0.7859 - val_loss: 0.7933 - val_acc: 0.7324\n",
      "Epoch 92/200\n",
      "26010/26010 [==============================] - 32s 1ms/step - loss: 0.6072 - acc: 0.7897 - val_loss: 0.7797 - val_acc: 0.7335\n",
      "Epoch 93/200\n",
      "26010/26010 [==============================] - 32s 1ms/step - loss: 0.6126 - acc: 0.7885 - val_loss: 0.9053 - val_acc: 0.7049\n",
      "Epoch 94/200\n",
      "26010/26010 [==============================] - 32s 1ms/step - loss: 0.6108 - acc: 0.7899 - val_loss: 0.8486 - val_acc: 0.7241\n",
      "Epoch 95/200\n",
      "26010/26010 [==============================] - 31s 1ms/step - loss: 0.6119 - acc: 0.7900 - val_loss: 0.9657 - val_acc: 0.6881\n",
      "Epoch 96/200\n",
      "26010/26010 [==============================] - 32s 1ms/step - loss: 0.6102 - acc: 0.7897 - val_loss: 0.8121 - val_acc: 0.7332\n",
      "Epoch 97/200\n",
      "26010/26010 [==============================] - 32s 1ms/step - loss: 0.6019 - acc: 0.7939 - val_loss: 0.8180 - val_acc: 0.7340\n",
      "Epoch 98/200\n",
      "26010/26010 [==============================] - 32s 1ms/step - loss: 0.6088 - acc: 0.7881 - val_loss: 0.9215 - val_acc: 0.6992\n",
      "Epoch 99/200\n",
      "26010/26010 [==============================] - 32s 1ms/step - loss: 0.6048 - acc: 0.7903 - val_loss: 0.8046 - val_acc: 0.7349\n",
      "Epoch 100/200\n",
      "26010/26010 [==============================] - 32s 1ms/step - loss: 0.6027 - acc: 0.7923 - val_loss: 0.7667 - val_acc: 0.7464\n",
      "Epoch 101/200\n",
      "26010/26010 [==============================] - 32s 1ms/step - loss: 0.5995 - acc: 0.7955 - val_loss: 0.7416 - val_acc: 0.7513\n",
      "Epoch 102/200\n",
      "26010/26010 [==============================] - 39s 1ms/step - loss: 0.5849 - acc: 0.7985 - val_loss: 0.7899 - val_acc: 0.7395\n",
      "Epoch 103/200\n",
      "26010/26010 [==============================] - 32s 1ms/step - loss: 0.5910 - acc: 0.7947 - val_loss: 0.7664 - val_acc: 0.7427\n",
      "Epoch 104/200\n",
      "26010/26010 [==============================] - 33s 1ms/step - loss: 0.5957 - acc: 0.7939 - val_loss: 0.7472 - val_acc: 0.7506\n",
      "Epoch 105/200\n",
      "26010/26010 [==============================] - 35s 1ms/step - loss: 0.5899 - acc: 0.7995 - val_loss: 0.7857 - val_acc: 0.7435\n",
      "Epoch 106/200\n",
      "26010/26010 [==============================] - 34s 1ms/step - loss: 0.5892 - acc: 0.7960 - val_loss: 0.8270 - val_acc: 0.7290\n",
      "Epoch 107/200\n",
      "26010/26010 [==============================] - 34s 1ms/step - loss: 0.5840 - acc: 0.7975 - val_loss: 0.7234 - val_acc: 0.7578\n",
      "Epoch 108/200\n",
      "26010/26010 [==============================] - 34s 1ms/step - loss: 0.5914 - acc: 0.7952 - val_loss: 0.7344 - val_acc: 0.7578\n",
      "Epoch 109/200\n",
      "26010/26010 [==============================] - 34s 1ms/step - loss: 0.5869 - acc: 0.7976 - val_loss: 0.7807 - val_acc: 0.7407\n",
      "Epoch 110/200\n",
      "26010/26010 [==============================] - 34s 1ms/step - loss: 0.5853 - acc: 0.7961 - val_loss: 0.7917 - val_acc: 0.7364\n",
      "Epoch 111/200\n",
      "26010/26010 [==============================] - 35s 1ms/step - loss: 0.5806 - acc: 0.8003 - val_loss: 0.7752 - val_acc: 0.7467\n",
      "Epoch 112/200\n",
      "26010/26010 [==============================] - 35s 1ms/step - loss: 0.5837 - acc: 0.7992 - val_loss: 0.7660 - val_acc: 0.7473\n",
      "Epoch 113/200\n",
      "26010/26010 [==============================] - 34s 1ms/step - loss: 0.5883 - acc: 0.7979 - val_loss: 0.8083 - val_acc: 0.7241\n",
      "Epoch 114/200\n",
      "26010/26010 [==============================] - 34s 1ms/step - loss: 0.5754 - acc: 0.8027 - val_loss: 0.7727 - val_acc: 0.7453\n",
      "Epoch 115/200\n",
      "26010/26010 [==============================] - 34s 1ms/step - loss: 0.5685 - acc: 0.8044 - val_loss: 0.8166 - val_acc: 0.7297\n",
      "Epoch 116/200\n",
      "26010/26010 [==============================] - 35s 1ms/step - loss: 0.5666 - acc: 0.8057 - val_loss: 0.7854 - val_acc: 0.7349\n",
      "Epoch 117/200\n",
      "26010/26010 [==============================] - 35s 1ms/step - loss: 0.5698 - acc: 0.8033 - val_loss: 0.7521 - val_acc: 0.7501\n",
      "Epoch 118/200\n",
      "26010/26010 [==============================] - 35s 1ms/step - loss: 0.5691 - acc: 0.8025 - val_loss: 0.7557 - val_acc: 0.7487\n",
      "Epoch 119/200\n",
      "26010/26010 [==============================] - 34s 1ms/step - loss: 0.5615 - acc: 0.8053 - val_loss: 0.8140 - val_acc: 0.7290\n",
      "Epoch 120/200\n",
      "26010/26010 [==============================] - 34s 1ms/step - loss: 0.5655 - acc: 0.8017 - val_loss: 0.7625 - val_acc: 0.7415\n",
      "Epoch 121/200\n",
      "26010/26010 [==============================] - 34s 1ms/step - loss: 0.5578 - acc: 0.8063 - val_loss: 0.7496 - val_acc: 0.7512\n",
      "Epoch 122/200\n",
      "26010/26010 [==============================] - 34s 1ms/step - loss: 0.5576 - acc: 0.8057 - val_loss: 0.7941 - val_acc: 0.7381\n",
      "Epoch 123/200\n",
      "26010/26010 [==============================] - 34s 1ms/step - loss: 0.5635 - acc: 0.8067 - val_loss: 0.7515 - val_acc: 0.7461\n",
      "Epoch 124/200\n",
      "26010/26010 [==============================] - 34s 1ms/step - loss: 0.5592 - acc: 0.8073 - val_loss: 0.8208 - val_acc: 0.7215\n",
      "Epoch 125/200\n",
      "26010/26010 [==============================] - 34s 1ms/step - loss: 0.5582 - acc: 0.8057 - val_loss: 0.7579 - val_acc: 0.7518\n",
      "Epoch 126/200\n",
      "26010/26010 [==============================] - 34s 1ms/step - loss: 0.5584 - acc: 0.8075 - val_loss: 0.7996 - val_acc: 0.7367\n",
      "Epoch 127/200\n",
      "26010/26010 [==============================] - 34s 1ms/step - loss: 0.5410 - acc: 0.8148 - val_loss: 0.7948 - val_acc: 0.7378\n",
      "Epoch 128/200\n",
      "26010/26010 [==============================] - 34s 1ms/step - loss: 0.5527 - acc: 0.8071 - val_loss: 0.8925 - val_acc: 0.7124\n",
      "Epoch 129/200\n",
      "26010/26010 [==============================] - 34s 1ms/step - loss: 0.5524 - acc: 0.8096 - val_loss: 0.7751 - val_acc: 0.7455\n",
      "Epoch 130/200\n",
      "26010/26010 [==============================] - 34s 1ms/step - loss: 0.5511 - acc: 0.8085 - val_loss: 0.7779 - val_acc: 0.7414\n",
      "Epoch 131/200\n",
      "26010/26010 [==============================] - 34s 1ms/step - loss: 0.5543 - acc: 0.8093 - val_loss: 0.7825 - val_acc: 0.7415\n",
      "Epoch 132/200\n",
      "26010/26010 [==============================] - 34s 1ms/step - loss: 0.5473 - acc: 0.8118 - val_loss: 0.7677 - val_acc: 0.7469\n",
      "Epoch 133/200\n",
      "26010/26010 [==============================] - 34s 1ms/step - loss: 0.5535 - acc: 0.8097 - val_loss: 0.7752 - val_acc: 0.7446\n",
      "Epoch 134/200\n",
      "26010/26010 [==============================] - 34s 1ms/step - loss: 0.5479 - acc: 0.8097 - val_loss: 0.8058 - val_acc: 0.7330\n",
      "Epoch 135/200\n",
      "26010/26010 [==============================] - 34s 1ms/step - loss: 0.5438 - acc: 0.8153 - val_loss: 0.7555 - val_acc: 0.7483\n",
      "Epoch 136/200\n",
      "26010/26010 [==============================] - 34s 1ms/step - loss: 0.5286 - acc: 0.8169 - val_loss: 0.9003 - val_acc: 0.7160\n",
      "Epoch 137/200\n",
      "26010/26010 [==============================] - 34s 1ms/step - loss: 0.5355 - acc: 0.8151 - val_loss: 0.8805 - val_acc: 0.7207\n",
      "Epoch 138/200\n",
      "26010/26010 [==============================] - 34s 1ms/step - loss: 0.5433 - acc: 0.8146 - val_loss: 0.7528 - val_acc: 0.7515\n",
      "Epoch 139/200\n",
      "26010/26010 [==============================] - 34s 1ms/step - loss: 0.5367 - acc: 0.8138 - val_loss: 0.7764 - val_acc: 0.7450\n",
      "Epoch 140/200\n",
      "26010/26010 [==============================] - 34s 1ms/step - loss: 0.5359 - acc: 0.8155 - val_loss: 0.7816 - val_acc: 0.7440\n",
      "Epoch 141/200\n",
      "26010/26010 [==============================] - 34s 1ms/step - loss: 0.5385 - acc: 0.8165 - val_loss: 0.7759 - val_acc: 0.7480\n",
      "Epoch 142/200\n",
      "26010/26010 [==============================] - 34s 1ms/step - loss: 0.5343 - acc: 0.8145 - val_loss: 0.9013 - val_acc: 0.7132\n",
      "Epoch 143/200\n",
      "26010/26010 [==============================] - 34s 1ms/step - loss: 0.5275 - acc: 0.8165 - val_loss: 0.7576 - val_acc: 0.7493\n",
      "Epoch 144/200\n",
      "26010/26010 [==============================] - 34s 1ms/step - loss: 0.5324 - acc: 0.8157 - val_loss: 0.7550 - val_acc: 0.7473\n",
      "Epoch 145/200\n",
      "26010/26010 [==============================] - 34s 1ms/step - loss: 0.5268 - acc: 0.8195 - val_loss: 0.7466 - val_acc: 0.7524\n",
      "Epoch 146/200\n",
      "26010/26010 [==============================] - 34s 1ms/step - loss: 0.5250 - acc: 0.8178 - val_loss: 0.8097 - val_acc: 0.7378\n",
      "Epoch 147/200\n",
      "26010/26010 [==============================] - 34s 1ms/step - loss: 0.5345 - acc: 0.8152 - val_loss: 0.8491 - val_acc: 0.7191\n",
      "Epoch 148/200\n",
      "26010/26010 [==============================] - 34s 1ms/step - loss: 0.5308 - acc: 0.8178 - val_loss: 0.8451 - val_acc: 0.7304\n",
      "Epoch 149/200\n",
      "26010/26010 [==============================] - 34s 1ms/step - loss: 0.5222 - acc: 0.8193 - val_loss: 0.7658 - val_acc: 0.7452\n",
      "Epoch 150/200\n",
      "26010/26010 [==============================] - 34s 1ms/step - loss: 0.5170 - acc: 0.8230 - val_loss: 0.8059 - val_acc: 0.7361\n",
      "Epoch 151/200\n",
      "26010/26010 [==============================] - 34s 1ms/step - loss: 0.5219 - acc: 0.8185 - val_loss: 0.8081 - val_acc: 0.7421\n",
      "Epoch 152/200\n",
      "26010/26010 [==============================] - 34s 1ms/step - loss: 0.5193 - acc: 0.8213 - val_loss: 0.7884 - val_acc: 0.7406\n",
      "Epoch 153/200\n",
      "26010/26010 [==============================] - 46s 2ms/step - loss: 0.5208 - acc: 0.8179 - val_loss: 0.7854 - val_acc: 0.7414\n",
      "Epoch 154/200\n",
      "26010/26010 [==============================] - 34s 1ms/step - loss: 0.5198 - acc: 0.8208 - val_loss: 0.7936 - val_acc: 0.7421\n",
      "Epoch 155/200\n",
      "26010/26010 [==============================] - 34s 1ms/step - loss: 0.5239 - acc: 0.8211 - val_loss: 0.7517 - val_acc: 0.7535\n",
      "Epoch 156/200\n",
      "26010/26010 [==============================] - 34s 1ms/step - loss: 0.5120 - acc: 0.8224 - val_loss: 0.7703 - val_acc: 0.7500\n",
      "Epoch 157/200\n",
      "26010/26010 [==============================] - 34s 1ms/step - loss: 0.5180 - acc: 0.8214 - val_loss: 0.8208 - val_acc: 0.7352\n",
      "Epoch 158/200\n",
      "26010/26010 [==============================] - 34s 1ms/step - loss: 0.5135 - acc: 0.8208 - val_loss: 0.7998 - val_acc: 0.7424\n",
      "Epoch 159/200\n",
      "26010/26010 [==============================] - 34s 1ms/step - loss: 0.5129 - acc: 0.8221 - val_loss: 0.7571 - val_acc: 0.7527\n",
      "Epoch 160/200\n",
      "26010/26010 [==============================] - 34s 1ms/step - loss: 0.5174 - acc: 0.8219 - val_loss: 0.8469 - val_acc: 0.7290\n",
      "Epoch 161/200\n",
      "26010/26010 [==============================] - 34s 1ms/step - loss: 0.5100 - acc: 0.8224 - val_loss: 0.8346 - val_acc: 0.7330\n",
      "Epoch 162/200\n",
      "26010/26010 [==============================] - 34s 1ms/step - loss: 0.5108 - acc: 0.8230 - val_loss: 0.8535 - val_acc: 0.7304\n",
      "Epoch 163/200\n",
      "26010/26010 [==============================] - 34s 1ms/step - loss: 0.5183 - acc: 0.8188 - val_loss: 0.7868 - val_acc: 0.7410\n",
      "Epoch 164/200\n",
      "26010/26010 [==============================] - 34s 1ms/step - loss: 0.5001 - acc: 0.8277 - val_loss: 0.8026 - val_acc: 0.7366\n",
      "Epoch 165/200\n",
      "26010/26010 [==============================] - 34s 1ms/step - loss: 0.5078 - acc: 0.8250 - val_loss: 0.7790 - val_acc: 0.7433\n",
      "Epoch 166/200\n",
      "26010/26010 [==============================] - 34s 1ms/step - loss: 0.5117 - acc: 0.8208 - val_loss: 0.8268 - val_acc: 0.7344\n",
      "Epoch 167/200\n",
      "26010/26010 [==============================] - 34s 1ms/step - loss: 0.5052 - acc: 0.8245 - val_loss: 0.8283 - val_acc: 0.7347\n",
      "Epoch 168/200\n",
      "26010/26010 [==============================] - 34s 1ms/step - loss: 0.5027 - acc: 0.8260 - val_loss: 0.7713 - val_acc: 0.7469\n",
      "Epoch 169/200\n",
      "26010/26010 [==============================] - 34s 1ms/step - loss: 0.5052 - acc: 0.8268 - val_loss: 0.8204 - val_acc: 0.7401\n",
      "Epoch 170/200\n",
      "26010/26010 [==============================] - 34s 1ms/step - loss: 0.5011 - acc: 0.8268 - val_loss: 0.8019 - val_acc: 0.7335\n",
      "Epoch 171/200\n",
      "26010/26010 [==============================] - 34s 1ms/step - loss: 0.4990 - acc: 0.8275 - val_loss: 0.8100 - val_acc: 0.7395\n",
      "Epoch 172/200\n",
      "26010/26010 [==============================] - 34s 1ms/step - loss: 0.4998 - acc: 0.8266 - val_loss: 0.7986 - val_acc: 0.7441\n",
      "Epoch 173/200\n",
      "26010/26010 [==============================] - 34s 1ms/step - loss: 0.5059 - acc: 0.8252 - val_loss: 0.7675 - val_acc: 0.7530\n",
      "Epoch 174/200\n",
      "26010/26010 [==============================] - 34s 1ms/step - loss: 0.5052 - acc: 0.8232 - val_loss: 0.7831 - val_acc: 0.7452\n",
      "Epoch 175/200\n",
      "26010/26010 [==============================] - 34s 1ms/step - loss: 0.4969 - acc: 0.8276 - val_loss: 0.7523 - val_acc: 0.7596\n",
      "Epoch 176/200\n",
      "26010/26010 [==============================] - 34s 1ms/step - loss: 0.5006 - acc: 0.8288 - val_loss: 0.7406 - val_acc: 0.7557\n",
      "Epoch 177/200\n",
      "26010/26010 [==============================] - 34s 1ms/step - loss: 0.4943 - acc: 0.8283 - val_loss: 0.8264 - val_acc: 0.7412\n",
      "Epoch 178/200\n",
      "26010/26010 [==============================] - 34s 1ms/step - loss: 0.4972 - acc: 0.8271 - val_loss: 0.8046 - val_acc: 0.7367\n",
      "Epoch 179/200\n",
      "26010/26010 [==============================] - 34s 1ms/step - loss: 0.4884 - acc: 0.8328 - val_loss: 0.8965 - val_acc: 0.7212\n",
      "Epoch 180/200\n",
      "26010/26010 [==============================] - 34s 1ms/step - loss: 0.4986 - acc: 0.8253 - val_loss: 0.8915 - val_acc: 0.7138\n",
      "Epoch 181/200\n",
      "26010/26010 [==============================] - 34s 1ms/step - loss: 0.4897 - acc: 0.8290 - val_loss: 0.8088 - val_acc: 0.7477\n",
      "Epoch 182/200\n",
      "26010/26010 [==============================] - 34s 1ms/step - loss: 0.4873 - acc: 0.8290 - val_loss: 0.8029 - val_acc: 0.7486\n",
      "Epoch 183/200\n",
      "26010/26010 [==============================] - 34s 1ms/step - loss: 0.4879 - acc: 0.8302 - val_loss: 0.8606 - val_acc: 0.7304\n",
      "Epoch 184/200\n",
      "26010/26010 [==============================] - 34s 1ms/step - loss: 0.4968 - acc: 0.8291 - val_loss: 0.8163 - val_acc: 0.7317\n",
      "Epoch 185/200\n",
      "26010/26010 [==============================] - 34s 1ms/step - loss: 0.4831 - acc: 0.8336 - val_loss: 0.8496 - val_acc: 0.7289\n",
      "Epoch 186/200\n",
      "26010/26010 [==============================] - 35s 1ms/step - loss: 0.4907 - acc: 0.8313 - val_loss: 0.8414 - val_acc: 0.7361\n",
      "Epoch 187/200\n",
      "26010/26010 [==============================] - 34s 1ms/step - loss: 0.4953 - acc: 0.8287 - val_loss: 0.7742 - val_acc: 0.7426\n",
      "Epoch 188/200\n",
      "26010/26010 [==============================] - 34s 1ms/step - loss: 0.4923 - acc: 0.8290 - val_loss: 0.7907 - val_acc: 0.7464\n",
      "Epoch 189/200\n",
      "26010/26010 [==============================] - 34s 1ms/step - loss: 0.4757 - acc: 0.8332 - val_loss: 0.8212 - val_acc: 0.7397\n",
      "Epoch 190/200\n",
      "26010/26010 [==============================] - 34s 1ms/step - loss: 0.4842 - acc: 0.8321 - val_loss: 0.7688 - val_acc: 0.7512\n",
      "Epoch 191/200\n",
      "26010/26010 [==============================] - 34s 1ms/step - loss: 0.4843 - acc: 0.8318 - val_loss: 0.7894 - val_acc: 0.7464\n",
      "Epoch 192/200\n",
      "26010/26010 [==============================] - 34s 1ms/step - loss: 0.4805 - acc: 0.8323 - val_loss: 0.7987 - val_acc: 0.7475\n",
      "Epoch 193/200\n",
      "26010/26010 [==============================] - 34s 1ms/step - loss: 0.4867 - acc: 0.8321 - val_loss: 0.7672 - val_acc: 0.7432\n",
      "Epoch 194/200\n",
      "26010/26010 [==============================] - 34s 1ms/step - loss: 0.4779 - acc: 0.8359 - val_loss: 0.7479 - val_acc: 0.7561\n",
      "Epoch 195/200\n",
      "26010/26010 [==============================] - 34s 1ms/step - loss: 0.4797 - acc: 0.8363 - val_loss: 0.7795 - val_acc: 0.7443\n",
      "Epoch 196/200\n",
      "26010/26010 [==============================] - 34s 1ms/step - loss: 0.4862 - acc: 0.8319 - val_loss: 0.8665 - val_acc: 0.7278\n",
      "Epoch 197/200\n",
      "26010/26010 [==============================] - 34s 1ms/step - loss: 0.4832 - acc: 0.8324 - val_loss: 0.7693 - val_acc: 0.7504\n",
      "Epoch 198/200\n",
      "26010/26010 [==============================] - 34s 1ms/step - loss: 0.4744 - acc: 0.8366 - val_loss: 0.7643 - val_acc: 0.7515\n",
      "Epoch 199/200\n",
      "26010/26010 [==============================] - 34s 1ms/step - loss: 0.4775 - acc: 0.8344 - val_loss: 0.8605 - val_acc: 0.7226\n",
      "Epoch 200/200\n",
      "26010/26010 [==============================] - 34s 1ms/step - loss: 0.4807 - acc: 0.8346 - val_loss: 0.7881 - val_acc: 0.7466\n"
     ]
    }
   ],
   "source": [
    "#history = model.fit(training_X,y_train, epochs=250, batch_size=128,validation_split=0.2,callbacks=[EarlyStopping(monitor='val_loss',patience=10, min_delta=0.0001)])\n",
    "history = model.fit(training_X,y_train, epochs=200, batch_size=128,validation_split=0.2)"
   ]
  },
  {
   "cell_type": "markdown",
   "metadata": {},
   "source": [
    "### Plot Accuracy,Loss"
   ]
  },
  {
   "cell_type": "code",
   "execution_count": 20,
   "metadata": {
    "colab": {
     "base_uri": "https://localhost:8080/",
     "height": 1272
    },
    "colab_type": "code",
    "id": "bN1ANtKW3jWy",
    "outputId": "97fae1cd-58ab-4f57-d105-c0748d0c4f34"
   },
   "outputs": [
    {
     "name": "stdout",
     "output_type": "stream",
     "text": [
      "dict_keys(['val_loss', 'val_acc', 'loss', 'acc'])\n"
     ]
    },
    {
     "data": {
      "image/png": "[encoded data removed]",
      "text/plain": [
       "<matplotlib.figure.Figure at 0x7f3ae5965d68>"
      ]
     },
     "metadata": {
      "tags": []
     },
     "output_type": "display_data"
    },
    {
     "data": {
      "image/png": "[encoded data removed]",
      "text/plain": [
       "<matplotlib.figure.Figure at 0x7f3ae587a550>"
      ]
     },
     "metadata": {
      "tags": []
     },
     "output_type": "display_data"
    }
   ],
   "source": [
    "from matplotlib.pyplot import figure\n",
    "figure(num=None, figsize=(12, 9), dpi=80, facecolor='w', edgecolor='k')\n",
    "print(history.history.keys())\n",
    "# summarize history for accuracy\n",
    "plt.plot(history.history['acc'])\n",
    "plt.plot(history.history['val_acc'])\n",
    "plt.title('model accuracy')\n",
    "plt.ylabel('accuracy')\n",
    "plt.xlabel('epoch')\n",
    "plt.legend(['train', 'test'], loc='upper left')\n",
    "plt.show()\n",
    "# summarize history for loss\n",
    "figure(num=None, figsize=(12, 9), dpi=80, facecolor='w', edgecolor='k')\n",
    "plt.plot(history.history['loss'])\n",
    "plt.plot(history.history['val_loss'])\n",
    "plt.title('model loss')\n",
    "plt.ylabel('loss')\n",
    "plt.xlabel('epoch')\n",
    "plt.legend(['train', 'test'], loc='upper left')\n",
    "plt.show()"
   ]
  },
  {
   "cell_type": "code",
   "execution_count": 0,
   "metadata": {
    "colab": {},
    "colab_type": "code",
    "id": "aMA7J4lDOql2"
   },
   "outputs": [],
   "source": [
    "#keras.callbacks.TensorBoard(log_dir='./logs', histogram_freq=0, batch_size=32, write_graph=True, write_grads=False, write_images=False, embeddings_freq=0, embeddings_layer_names=None, embeddings_metadata=None, embeddings_data=None, update_freq='epoch')"
   ]
  },
  {
   "cell_type": "code",
   "execution_count": 0,
   "metadata": {
    "colab": {},
    "colab_type": "code",
    "id": "l_75U401gDey"
   },
   "outputs": [],
   "source": [
    "# Save Model as JSON\n",
    "model_json = model.to_json()\n",
    "with open(\"model_v14.json\", \"w\") as json_file:\n",
    "    json_file.write(model_json)"
   ]
  },
  {
   "cell_type": "markdown",
   "metadata": {},
   "source": [
    "### Predicted File"
   ]
  },
  {
   "cell_type": "code",
   "execution_count": 0,
   "metadata": {
    "colab": {},
    "colab_type": "code",
    "id": "D_IkgLp_NLis"
   },
   "outputs": [],
   "source": [
    "## Perform predictions using prepared NN model on encoded test dataset\n",
    "## Save predictions in ytest.txt file\n",
    "\n",
    "#label_list = []\n",
    "num_test_cases = len(test_X)   # test with 100\n",
    "text_labels = encoder.classes_\n",
    "\n",
    "with open('ytest_v14.txt', 'w') as f:\n",
    "    for i in range(num_test_cases):    \n",
    "      prediction = model.predict(np.array([test_X_encoded[i]]))\n",
    "      label = text_labels[np.argmax(prediction[0])]\n",
    "      #label_list.append(label)\n",
    "      f.write(\"%s\\n\" % label)\n",
    "    \n",
    "#print('Sample 100 predictions :',label_list)"
   ]
  },
  {
   "cell_type": "code",
   "execution_count": 0,
   "metadata": {
    "colab": {},
    "colab_type": "code",
    "id": "1hii4ZZfb7bL"
   },
   "outputs": [],
   "source": [
    "# # Download File from Collaboratory\n",
    "# from google.colab import files\n",
    "# files.download('ytest_v14.txt')"
   ]
  }
 ],
 "metadata": {
  "accelerator": "GPU",
  "colab": {
   "collapsed_sections": [],
   "name": "model_v13.ipynb",
   "provenance": [],
   "version": "0.3.2"
  },
  "kernelspec": {
   "display_name": "Python 3",
   "language": "python",
   "name": "python3"
  },
  "language_info": {
   "codemirror_mode": {
    "name": "ipython",
    "version": 3
   },
   "file_extension": ".py",
   "mimetype": "text/x-python",
   "name": "python",
   "nbconvert_exporter": "python",
   "pygments_lexer": "ipython3",
   "version": "3.6.5"
  }
 },
 "nbformat": 4,
 "nbformat_minor": 1
}
